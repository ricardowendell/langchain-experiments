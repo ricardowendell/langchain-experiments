{
 "cells": [
  {
   "cell_type": "markdown",
   "id": "92184d7a-6cbf-4369-987e-077e549a8ebe",
   "metadata": {},
   "source": [
    "### Simple database queries"
   ]
  },
  {
   "cell_type": "code",
   "execution_count": 39,
   "id": "9c2ddb0e-dc52-4e2d-9d65-9dca2d2dc70a",
   "metadata": {
    "tags": []
   },
   "outputs": [],
   "source": [
    "import sqlite3\n",
    "import pandas as pd"
   ]
  },
  {
   "cell_type": "code",
   "execution_count": 40,
   "id": "2670fbf2-f9a0-4b3a-aca6-1bf65fce39d8",
   "metadata": {
    "tags": []
   },
   "outputs": [],
   "source": [
    "# Load Customers\n",
    "df = pd.read_csv('../../datasets/archive/olist_customers_dataset.csv')\n",
    "df.columns = df.columns.str.strip()\n",
    "con = sqlite3.connect(\"data/olist.db\")\n",
    "df.to_sql(\"customers\", con)\n",
    "con.close()"
   ]
  },
  {
   "cell_type": "code",
   "execution_count": 41,
   "id": "98c54fc4-28e6-490e-926e-45e7e84fc935",
   "metadata": {
    "tags": []
   },
   "outputs": [],
   "source": [
    "# Load Orders\n",
    "df = pd.read_csv('../../datasets/archive/olist_orders_dataset.csv')\n",
    "df.columns = df.columns.str.strip()\n",
    "con = sqlite3.connect(\"data/olist.db\")\n",
    "df.to_sql(\"orders\", con)\n",
    "con.close()"
   ]
  },
  {
   "cell_type": "code",
   "execution_count": 42,
   "id": "a57106b7-401b-4fdf-9cec-c5c7e91ae217",
   "metadata": {
    "tags": []
   },
   "outputs": [],
   "source": [
    "# Load Products\n",
    "df = pd.read_csv('../../datasets/archive/olist_order_reviews_dataset.csv')\n",
    "df.columns = df.columns.str.strip()\n",
    "con = sqlite3.connect(\"data/olist.db\")\n",
    "df.to_sql(\"order_reviews\", con)\n",
    "con.close()"
   ]
  },
  {
   "cell_type": "code",
   "execution_count": 43,
   "id": "26cb7a58-1dce-4ea3-a51c-107a63144631",
   "metadata": {
    "tags": []
   },
   "outputs": [],
   "source": [
    "from langchain import OpenAI, SQLDatabase, SQLDatabaseChain"
   ]
  },
  {
   "cell_type": "code",
   "execution_count": 44,
   "id": "128b2ce9-3aaa-405e-9a75-73743f9c6a0b",
   "metadata": {
    "tags": []
   },
   "outputs": [],
   "source": [
    "db = SQLDatabase.from_uri(\"sqlite:///data/olist.db\")\n",
    "llm = OpenAI(temperature=0, verbose=True)"
   ]
  },
  {
   "cell_type": "code",
   "execution_count": 45,
   "id": "da51677d-a897-4ce5-9659-e9ec9ec6ce46",
   "metadata": {
    "tags": []
   },
   "outputs": [],
   "source": [
    "db_chain = SQLDatabaseChain.from_llm(llm, db, verbose=True)"
   ]
  },
  {
   "cell_type": "code",
   "execution_count": 46,
   "id": "3bddda33-5a16-4df7-9d46-577c79d79b27",
   "metadata": {
    "tags": []
   },
   "outputs": [
    {
     "name": "stdout",
     "output_type": "stream",
     "text": [
      "\n",
      "\n",
      "\u001b[1m> Entering new SQLDatabaseChain chain...\u001b[0m\n",
      "What column names we have in orders?\n",
      "SQLQuery:\u001b[32;1m\u001b[1;3m SELECT * FROM orders LIMIT 5;\u001b[0m\n",
      "SQLResult: \u001b[33;1m\u001b[1;3m[(0, 'e481f51cbdc54678b7cc49136f2d6af7', '9ef432eb6251297304e76186b10a928d', 'delivered', '2017-10-02 10:56:33', '2017-10-02 11:07:15', '2017-10-04 19:55:00', '2017-10-10 21:25:13', '2017-10-18 00:00:00'), (1, '53cdb2fc8bc7dce0b6741e2150273451', 'b0830fb4747a6c6d20dea0b8c802d7ef', 'delivered', '2018-07-24 20:41:37', '2018-07-26 03:24:27', '2018-07-26 14:31:00', '2018-08-07 15:27:45', '2018-08-13 00:00:00'), (2, '47770eb9100c2d0c44946d9cf07ec65d', '41ce2a54c0b03bf3443c3d931a367089', 'delivered', '2018-08-08 08:38:49', '2018-08-08 08:55:23', '2018-08-08 13:50:00', '2018-08-17 18:06:29', '2018-09-04 00:00:00'), (3, '949d5b44dbf5de918fe9c16f97b45f8a', 'f88197465ea7920adcdbec7375364d82', 'delivered', '2017-11-18 19:28:06', '2017-11-18 19:45:59', '2017-11-22 13:39:59', '2017-12-02 00:28:42', '2017-12-15 00:00:00'), (4, 'ad21c59c0840e6cb83a9ceb5573f8159', '8ab97904e6daea8866dbdbc4fb7aad2c', 'delivered', '2018-02-13 21:18:39', '2018-02-13 22:20:29', '2018-02-14 19:46:34', '2018-02-16 18:17:02', '2018-02-26 00:00:00')]\u001b[0m\n",
      "Answer:\u001b[32;1m\u001b[1;3m The orders table has the following column names: index, order_id, customer_id, order_status, order_purchase_timestamp, order_approved_at, order_delivered_carrier_date, order_delivered_customer_date, order_estimated_delivery_date.\u001b[0m\n",
      "\u001b[1m> Finished chain.\u001b[0m\n"
     ]
    },
    {
     "data": {
      "text/plain": [
       "' The orders table has the following column names: index, order_id, customer_id, order_status, order_purchase_timestamp, order_approved_at, order_delivered_carrier_date, order_delivered_customer_date, order_estimated_delivery_date.'"
      ]
     },
     "execution_count": 46,
     "metadata": {},
     "output_type": "execute_result"
    }
   ],
   "source": [
    "db_chain.run(\"\"\"What column names we have in orders?\"\"\")"
   ]
  },
  {
   "cell_type": "code",
   "execution_count": 47,
   "id": "b3e52138-01f8-4a69-a6f7-12fc09932492",
   "metadata": {
    "tags": []
   },
   "outputs": [
    {
     "name": "stdout",
     "output_type": "stream",
     "text": [
      "\n",
      "\n",
      "\u001b[1m> Entering new SQLDatabaseChain chain...\u001b[0m\n",
      "What is the average delivery time for the orders, for each state? Do not limit results.\n",
      "SQLQuery:\u001b[32;1m\u001b[1;3m SELECT customer_state, AVG(julianday(order_delivered_customer_date) - julianday(order_purchase_timestamp)) AS avg_delivery_time\n",
      "FROM orders\n",
      "INNER JOIN customers\n",
      "ON orders.customer_id = customers.customer_id\n",
      "GROUP BY customer_state\u001b[0m\n",
      "SQLResult: \u001b[33;1m\u001b[1;3m[('AC', 21.035712962946853), ('AL', 24.543855361979436), ('AM', 26.425990900413357), ('AP', 27.185067717006792), ('BA', 19.335465824488363), ('CE', 21.266578634927797), ('DF', 12.967568108972717), ('ES', 15.789307110366133), ('GO', 15.606338535454533), ('MA', 21.572976474119596), ('MG', 12.010258342917206), ('MS', 15.618319018474233), ('MT', 18.05575601172604), ('PA', 23.77291691136826), ('PB', 20.426767609615375), ('PE', 18.448322994401824), ('PI', 19.45709826291378), ('PR', 11.991582227413579), ('RJ', 15.310052815554164), ('RN', 19.278156206030438), ('RO', 19.372036513109755), ('RR', 29.387546013983922), ('RS', 15.30027619241045), ('SC', 14.959297453377435), ('SE', 21.51978828081889), ('SP', 8.761356563795475), ('TO', 17.658062609830314)]\u001b[0m\n",
      "Answer:\u001b[32;1m\u001b[1;3m The average delivery time for orders, for each state, ranges from 8.76 days in Sao Paulo to 29.39 days in Roraima.\u001b[0m\n",
      "\u001b[1m> Finished chain.\u001b[0m\n"
     ]
    },
    {
     "data": {
      "text/plain": [
       "' The average delivery time for orders, for each state, ranges from 8.76 days in Sao Paulo to 29.39 days in Roraima.'"
      ]
     },
     "execution_count": 47,
     "metadata": {},
     "output_type": "execute_result"
    }
   ],
   "source": [
    "db_chain.run(\"\"\"What is the average delivery time for the orders, for each state? Do not limit results.\"\"\")"
   ]
  },
  {
   "cell_type": "code",
   "execution_count": 54,
   "id": "2e7e233b-6a07-4e4c-970d-70ea264052cb",
   "metadata": {
    "tags": []
   },
   "outputs": [
    {
     "name": "stdout",
     "output_type": "stream",
     "text": [
      "\n",
      "\n",
      "\u001b[1m> Entering new SQLDatabaseChain chain...\u001b[0m\n",
      "\n",
      "Retrieve 40 samples order reviews that have comment messages and a review score less than 3. \n",
      "What are the main complains?\n",
      "\n",
      "SQLQuery:\u001b[32;1m\u001b[1;3m \n",
      "SELECT review_comment_message \n",
      "FROM order_reviews \n",
      "WHERE review_score < 3 \n",
      "AND review_comment_message IS NOT NULL \n",
      "LIMIT 40;\n",
      "\u001b[0m\n",
      "SQLResult: \u001b[33;1m\u001b[1;3m[('GOSTARIA DE SABER O QUE HOUVE, SEMPRE RECEBI E ESSA COMPRA AGORA ME DECPCIONOU',), ('Péssimo',), ('Não gostei ! Comprei gato por lebre',), ('Sempre compro pela Internet e a entrega ocorre antes do prazo combinado, que acredito ser o prazo máximo. No stark o prazo máximo já se esgotou e ainda não recebi o produto.',), ('Nada de chegar o meu pedido.',), ('recebi somente 1 controle Midea Split ESTILO.\\r\\nFaltou Controle Remoto para Ar Condicionado Consul',), ('O produto não chegou no prazo estipulado e causou transtorno, pq programei a viagem de férias do meu filho, baseado no prazo. Moro na Bahia e ele em Cuiabá sozinho. Agora, a casa está vazia. ',), ('Produto muito inferior, mal acabado.',), ('Pedi reembolso e sem resposta até momento ',), ('Este foi o pedido\\r\\nBalde Com 128 Peças - Blocos De Montar 2 un - R$ 25,00 cada (NÃO FOI ENTREGUE)\\r\\nVendido e entregue targaryen\\r\\nTapete de Eva Nº Letras 36 Peças Crianças 1 un - R$ 35,90 (ESTE FOI ENTREG',), ('comprei tres pacotes de cinco folhas cada de papel transfer para tecido escuro e so recebi dois',), ('Demorou de mais pra entrega ',), ('Não funciona não faz sincronismo',), ('Chegou apenas uma peça, mas na nota e na garantia constam as duas joias.',), ('EU NÃO RECEBI O PRODUTO E CONSTA NO SISTEMA QUE EU RECEBI ALÉM DE PAGAR CARO DO FRETE ',), ('Comprei o relógio, unissex e enviaram um relógio feminino, bem menor que as especificações do anúncio.',), ('A peça não serviu',), ('Comprei o produto dia 25 de fevereiro e hoje dia 29 de marco não fora entregue na minha residência. Não sei se os correios desse Brasil e péssimo ou foi a própria loja que demorou postar.',), ('fiz minha compra faz 30 dias e não recebi ainda meu produto.\\r\\nPrecisa melhorar nas entregas',), ('Faltou 1 produto e os que recebi 1 veio quebrado',), ('aqui está descrevendo como entregue só que ate agora não recebi',), ('Não posso! Estou aguardando a chegada do produto que comprei!Logo que isso aconteça, terei minha opinião formada!',), ('Comprei dois produtos e recebi somente um. Mandei dois emails para a loja e não tive nenhum retorno. Estou insatisfeita.',), ('Demora na entrega, detestei o atendimento e NUNCA mais compro. baratheon quando vendia por eles mesmos era bem melhor! ',), ('o meu produto não chegou... segundo o rastreio está parado em Ribeirão Preto sp... ',), ('produto deu defeito na 1 vez de uso.',), ('até agora não recebi o produto.',), (' A loja anuncia um produto e entrega outro.',), ('produto foi entregue com umas das alças com problemas (está faltando 1 pino de fixação)',), ('Foi marcado o dia 14/02 para entrega do pedido e no rastreamento marcava que o produto já havia sido entregue na data mas na realidade não foi entregue. O produto só foi entregue no dia 28/02.',), ('LOJA ALÉM DO FRETE SER MUITO CARO . O PRODUTO LEVA QUASE 30 DIAS ÚTEIS , PARA CHEGAR NA SUA CASA',), ('Recebi bem rápido, porém veio outro produto, e não o que eu pedi, o modelo veio diferente, a cor, veio uma capinha que não tem zíper, enfim, não recomendo. ',), ('Cancelaram a minha compra um dia antes da entrega, liguei para a lannister e os atendentes não sabiam o que estava acontecendo, uma bagunça, agora estou esperando para ver se vai ser cobrado',), ('o acabento que estava na foto era bonito a que chegou foi de um sintetico feio com um acabento todo borrado orrivel nao gostei',), ('E muito desordenado comprei três produtos mais não veio no dia sertões veio separado e em data separada ',), (', muito ruim ! ',), ('Passou dos dias previstos.',), ('Produto não recomendo não ler em nenhum dispositivo',), ('Tentando cancelar o produto desde antes da emissão da nota fiscal. Não fui avisada que estava no correio, não tive nenhuma resposta do cancelamento e nao consigo devolver. ',), ('Boa Noite\\r\\n\\r\\né lamentável, esta loja que tantas compras eu ja fiz e hoje não me da satisfação sequer de um relógio na importância de 50,00 reais ... um produto com defeito e até agora não me deu retor',)]\u001b[0m\n",
      "Answer:\u001b[32;1m\u001b[1;3m The main complains are about late delivery, wrong product, missing product, low quality product, and not being able to cancel orders.\u001b[0m\n",
      "\u001b[1m> Finished chain.\u001b[0m\n"
     ]
    },
    {
     "data": {
      "text/plain": [
       "' The main complains are about late delivery, wrong product, missing product, low quality product, and not being able to cancel orders.'"
      ]
     },
     "execution_count": 54,
     "metadata": {},
     "output_type": "execute_result"
    }
   ],
   "source": [
    "db_chain.run(\"\"\"\n",
    "Retrieve 40 samples order reviews that have comment messages and a review score less than 3. \n",
    "What are the main complains?\n",
    "\"\"\")"
   ]
  }
 ],
 "metadata": {
  "kernelspec": {
   "display_name": "Python 3 (ipykernel)",
   "language": "python",
   "name": "python3"
  },
  "language_info": {
   "codemirror_mode": {
    "name": "ipython",
    "version": 3
   },
   "file_extension": ".py",
   "mimetype": "text/x-python",
   "name": "python",
   "nbconvert_exporter": "python",
   "pygments_lexer": "ipython3",
   "version": "3.10.8"
  }
 },
 "nbformat": 4,
 "nbformat_minor": 5
}
