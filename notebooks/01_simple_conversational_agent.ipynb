{
 "cells": [
  {
   "cell_type": "code",
   "execution_count": 37,
   "id": "9a041e3d-40bf-42a7-a9e4-6abe4041569c",
   "metadata": {
    "tags": []
   },
   "outputs": [
    {
     "data": {
      "text/plain": [
       "True"
      ]
     },
     "execution_count": 37,
     "metadata": {},
     "output_type": "execute_result"
    }
   ],
   "source": [
    "# Load environment variables\n",
    "from dotenv import load_dotenv\n",
    "load_dotenv()"
   ]
  },
  {
   "cell_type": "markdown",
   "id": "ef80a686-b425-468f-b62d-fbcbdf42a110",
   "metadata": {
    "tags": []
   },
   "source": [
    "### Importing libraries"
   ]
  },
  {
   "cell_type": "code",
   "execution_count": 38,
   "id": "8b06a9fb-ed75-4599-8290-84cd545ab6a6",
   "metadata": {
    "tags": []
   },
   "outputs": [],
   "source": [
    "from langchain.agents import Tool\n",
    "from langchain.chains.conversation.memory import ConversationBufferMemory\n",
    "from langchain import OpenAI\n",
    "from langchain.tools import DuckDuckGoSearchRun\n",
    "from langchain.agents import initialize_agent"
   ]
  },
  {
   "cell_type": "code",
   "execution_count": 39,
   "id": "6c4133e5-2680-4b76-8124-9898d53313f3",
   "metadata": {
    "tags": []
   },
   "outputs": [],
   "source": [
    "tools = [\n",
    "    Tool(\n",
    "        name = \"Current Search\",\n",
    "        func=DuckDuckGoSearchRun().run,\n",
    "        description=\"useful for when you need to answer questions about current events or the current state of the world or search the web\"\n",
    "    ),\n",
    "]"
   ]
  },
  {
   "cell_type": "code",
   "execution_count": 40,
   "id": "bb7c72f4-6fec-4959-948d-d5bf3df15908",
   "metadata": {
    "tags": []
   },
   "outputs": [],
   "source": [
    "memory = ConversationBufferMemory(memory_key=\"chat_history\")"
   ]
  },
  {
   "cell_type": "code",
   "execution_count": 45,
   "id": "83f07f0f-0bcd-442f-a5ab-df1805e3a452",
   "metadata": {
    "tags": []
   },
   "outputs": [],
   "source": [
    "llm=OpenAI()\n",
    "agent_chain = initialize_agent(\n",
    "    tools, \n",
    "    llm, \n",
    "    agent=\"conversational-react-description\",\n",
    "    memory=memory,\n",
    "    verbose=True\n",
    " )"
   ]
  },
  {
   "cell_type": "code",
   "execution_count": 46,
   "id": "bb2a0805-940b-4028-a210-44b33e7c2541",
   "metadata": {
    "tags": []
   },
   "outputs": [
    {
     "name": "stdout",
     "output_type": "stream",
     "text": [
      "\n",
      "\n",
      "\u001b[1m> Entering new AgentExecutor chain...\u001b[0m\n",
      "\u001b[32;1m\u001b[1;3m\n",
      "Thought: Do I need to use a tool? No\n",
      "AI: Hi Ricardo, it's nice to meet you too! What can I do for you today?\u001b[0m\n",
      "\n",
      "\u001b[1m> Finished chain.\u001b[0m\n"
     ]
    },
    {
     "data": {
      "text/plain": [
       "\"Hi Ricardo, it's nice to meet you too! What can I do for you today?\""
      ]
     },
     "execution_count": 46,
     "metadata": {},
     "output_type": "execute_result"
    }
   ],
   "source": [
    "agent_chain.run(input=\"Hi, I'm Ricardo Wendell! Nice to meet you!\")"
   ]
  },
  {
   "cell_type": "code",
   "execution_count": 43,
   "id": "abecf7d6-2c7b-412d-8801-96015f6b96b4",
   "metadata": {
    "tags": []
   },
   "outputs": [
    {
     "data": {
      "text/plain": [
       "'Seu nome é Ricardo Wendell.'"
      ]
     },
     "execution_count": 43,
     "metadata": {},
     "output_type": "execute_result"
    }
   ],
   "source": [
    "agent_chain.run(input=\"Qual o meu nome?\")"
   ]
  },
  {
   "cell_type": "code",
   "execution_count": 47,
   "id": "ce9a4feb-e91b-4771-b958-c46cd5fc8331",
   "metadata": {
    "tags": []
   },
   "outputs": [
    {
     "name": "stdout",
     "output_type": "stream",
     "text": [
      "\n",
      "\n",
      "\u001b[1m> Entering new AgentExecutor chain...\u001b[0m\n",
      "\u001b[32;1m\u001b[1;3m\n",
      "Thought: Do I need to use a tool? Yes\n",
      "Action: Current Search\n",
      "Action Input: What is Langchain?\u001b[0m\n",
      "Observation: \u001b[36;1m\u001b[1;3mLangChain is a powerful open-source framework for developing applications powered by language models. It connects to the AI models you want to use, such as OpenAI or Hugging Face, and links them with outside sources, such as Google Drive, Notion, Wikipedia, or even your Apify Actors. Getting Started with LangChain: A Beginner's Guide to Building LLM-Powered Applications | by Leonie Monigatti | Apr, 2023 | Towards Data Science 500 Apologies, but something went wrong on our end. Refresh the page, check Medium 's site status, or find something interesting to read. LangChain is an open-source framework designed for developing applications powered by a language model. You can utilize its capabilities to build powerful applications that make use of AI models like ChatGPT while integrating with external sources such as Google Drive, Notion, and Wikipedia. LangChain is a framework for developing applications powered by language models. We believe that the most powerful and differentiated applications will not only call out to a language model, but will also be: Data-aware: connect a language model to other sources of data Agentic: allow a language model to interact with its environment Introduction. Langchain is an open-source framework that enables developers to combine large language models, such as GPT-4, with external sources of computation and data. Offered as a Python or a JavaScript package, the popularity of this framework has skyrocketed after the introduction of GPT-4 in March 2023.\u001b[0m\n",
      "Thought:\u001b[32;1m\u001b[1;3m Do I need to use a tool? No\n",
      "AI: LangChain is an open-source framework designed for developing applications powered by a language model. You can utilize its capabilities to build powerful applications that make use of AI models like ChatGPT while integrating with external sources such as Google Drive, Notion, and Wikipedia.\u001b[0m\n",
      "\n",
      "\u001b[1m> Finished chain.\u001b[0m\n"
     ]
    },
    {
     "data": {
      "text/plain": [
       "'LangChain is an open-source framework designed for developing applications powered by a language model. You can utilize its capabilities to build powerful applications that make use of AI models like ChatGPT while integrating with external sources such as Google Drive, Notion, and Wikipedia.'"
      ]
     },
     "execution_count": 47,
     "metadata": {},
     "output_type": "execute_result"
    }
   ],
   "source": [
    "agent_chain.run(input=\"What is Langchain? You can search the web\")"
   ]
  }
 ],
 "metadata": {
  "kernelspec": {
   "display_name": "Python 3 (ipykernel)",
   "language": "python",
   "name": "python3"
  },
  "language_info": {
   "codemirror_mode": {
    "name": "ipython",
    "version": 3
   },
   "file_extension": ".py",
   "mimetype": "text/x-python",
   "name": "python",
   "nbconvert_exporter": "python",
   "pygments_lexer": "ipython3",
   "version": "3.10.8"
  }
 },
 "nbformat": 4,
 "nbformat_minor": 5
}
