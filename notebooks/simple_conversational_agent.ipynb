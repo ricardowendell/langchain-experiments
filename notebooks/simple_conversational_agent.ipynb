{
 "cells": [
  {
   "cell_type": "code",
   "execution_count": 4,
   "id": "9a041e3d-40bf-42a7-a9e4-6abe4041569c",
   "metadata": {
    "tags": []
   },
   "outputs": [
    {
     "data": {
      "text/plain": [
       "True"
      ]
     },
     "execution_count": 4,
     "metadata": {},
     "output_type": "execute_result"
    }
   ],
   "source": [
    "# Load environment variables\n",
    "from dotenv import load_dotenv\n",
    "load_dotenv()"
   ]
  },
  {
   "cell_type": "markdown",
   "id": "ef80a686-b425-468f-b62d-fbcbdf42a110",
   "metadata": {
    "tags": []
   },
   "source": [
    "### Importing libraries"
   ]
  },
  {
   "cell_type": "code",
   "execution_count": 6,
   "id": "8b06a9fb-ed75-4599-8290-84cd545ab6a6",
   "metadata": {
    "tags": []
   },
   "outputs": [],
   "source": [
    "from langchain.agents import Tool\n",
    "from langchain.chains.conversation.memory import ConversationBufferMemory\n",
    "from langchain import OpenAI\n",
    "from langchain.tools import DuckDuckGoSearchRun\n",
    "from langchain.agents import initialize_agent"
   ]
  },
  {
   "cell_type": "code",
   "execution_count": 8,
   "id": "6c4133e5-2680-4b76-8124-9898d53313f3",
   "metadata": {
    "tags": []
   },
   "outputs": [],
   "source": [
    "tools = [\n",
    "    Tool(\n",
    "        name = \"Current Search\",\n",
    "        func=DuckDuckGoSearchRun().run,\n",
    "        description=\"useful for when you need to answer questions about current events or the current state of the world or seach the web\"\n",
    "    ),\n",
    "]"
   ]
  },
  {
   "cell_type": "code",
   "execution_count": 9,
   "id": "bb7c72f4-6fec-4959-948d-d5bf3df15908",
   "metadata": {
    "tags": []
   },
   "outputs": [],
   "source": [
    "memory = ConversationBufferMemory(memory_key=\"chat_history\")"
   ]
  },
  {
   "cell_type": "code",
   "execution_count": 10,
   "id": "83f07f0f-0bcd-442f-a5ab-df1805e3a452",
   "metadata": {
    "tags": []
   },
   "outputs": [],
   "source": [
    "llm=OpenAI(temperature=0)\n",
    "agent_chain = initialize_agent(tools, llm, agent=\"conversational-react-description\", verbose=True, memory=memory)"
   ]
  },
  {
   "cell_type": "code",
   "execution_count": 11,
   "id": "bb2a0805-940b-4028-a210-44b33e7c2541",
   "metadata": {
    "tags": []
   },
   "outputs": [
    {
     "name": "stdout",
     "output_type": "stream",
     "text": [
      "\n",
      "\n",
      "\u001b[1m> Entering new AgentExecutor chain...\u001b[0m\n",
      "\u001b[32;1m\u001b[1;3m\n",
      "Thought: Do I need to use a tool? No\n",
      "AI: Olá Ricardo Wendell! Como posso ajudar?\u001b[0m\n",
      "\n",
      "\u001b[1m> Finished chain.\u001b[0m\n"
     ]
    },
    {
     "data": {
      "text/plain": [
       "'Olá Ricardo Wendell! Como posso ajudar?'"
      ]
     },
     "execution_count": 11,
     "metadata": {},
     "output_type": "execute_result"
    }
   ],
   "source": [
    "agent_chain.run(input=\"Olá, eu sou Ricardo Wendell!\")"
   ]
  },
  {
   "cell_type": "code",
   "execution_count": 12,
   "id": "abecf7d6-2c7b-412d-8801-96015f6b96b4",
   "metadata": {
    "tags": []
   },
   "outputs": [
    {
     "name": "stdout",
     "output_type": "stream",
     "text": [
      "\n",
      "\n",
      "\u001b[1m> Entering new AgentExecutor chain...\u001b[0m\n",
      "\u001b[32;1m\u001b[1;3m\n",
      "Thought: Do I need to use a tool? No\n",
      "AI: Seu nome é Ricardo Wendell.\u001b[0m\n",
      "\n",
      "\u001b[1m> Finished chain.\u001b[0m\n"
     ]
    },
    {
     "data": {
      "text/plain": [
       "'Seu nome é Ricardo Wendell.'"
      ]
     },
     "execution_count": 12,
     "metadata": {},
     "output_type": "execute_result"
    }
   ],
   "source": [
    "agent_chain.run(input=\"Qual o meu nome?\")"
   ]
  },
  {
   "cell_type": "code",
   "execution_count": 15,
   "id": "ce9a4feb-e91b-4771-b958-c46cd5fc8331",
   "metadata": {
    "tags": []
   },
   "outputs": [
    {
     "name": "stdout",
     "output_type": "stream",
     "text": [
      "\n",
      "\n",
      "\u001b[1m> Entering new AgentExecutor chain...\u001b[0m\n",
      "\u001b[32;1m\u001b[1;3m\n",
      "Thought: Do I need to use a tool? Yes\n",
      "Action: Current Search\n",
      "Action Input: Langchain\u001b[0m\n",
      "Observation: \u001b[36;1m\u001b[1;3mWelcome to LangChain. #. LangChain is a framework for developing applications powered by language models. We believe that the most powerful and differentiated applications will not only call out to a language model via an API, but will also: Be data-aware: connect a language model to other sources of data. Be agentic: allow a language model to ... LangChain is an open-source Python library that enables anyone who can write code to build LLM-powered applications. The package provides a generic interface to many foundation models, enables prompt management, and acts as a central interface to other components like prompt templates, other LLMs, external data, and other tools via agents ... LangChain + Zapier Natural Language Actions (NLA) We are super excited to team up with Zapier and integrate their new Zapier NLA API into LangChain, which you can now use with your agents and chains. With this integration, you have access to the 5k+ apps and 20k+ actions on Zapier's platform through a natural language API interface. Langchain is a powerful framework that revolutionizes the way developers work with large language models like GPT-4. By enabling the connection to external data sources and APIs, Langchain opens ... LangChain is a powerful Python library that provides a standard interface through which you can interact with a variety of LLMs and integrate them with your applications and custom data. The nice ...\u001b[0m\n",
      "Thought:\u001b[32;1m\u001b[1;3m Do I need to use a tool? No\n",
      "AI: LangChain é uma framework para desenvolvimento de aplicações alimentadas por modelos de linguagem. Acreditamos que as aplicações mais poderosas e diferenciadas não apenas chamarão um modelo de linguagem via API, mas também serão conscientes de dados, permitindo que um modelo de linguagem se conecte a outras fontes de dados. Além disso, LangChain é uma biblioteca Python de código aberto que permite que qualquer pessoa que possa escrever código construa aplicações alimentadas por LLM. A biblioteca fornece uma interface genérica para muitos modelos fundamentais, permite o gerenciamento de solicitações e atua como uma interface central para outros componentes, como modelos de solicitação, outros LLMs, dados extern\u001b[0m\n",
      "\n",
      "\u001b[1m> Finished chain.\u001b[0m\n"
     ]
    },
    {
     "data": {
      "text/plain": [
       "'LangChain é uma framework para desenvolvimento de aplicações alimentadas por modelos de linguagem. Acreditamos que as aplicações mais poderosas e diferenciadas não apenas chamarão um modelo de linguagem via API, mas também serão conscientes de dados, permitindo que um modelo de linguagem se conecte a outras fontes de dados. Além disso, LangChain é uma biblioteca Python de código aberto que permite que qualquer pessoa que possa escrever código construa aplicações alimentadas por LLM. A biblioteca fornece uma interface genérica para muitos modelos fundamentais, permite o gerenciamento de solicitações e atua como uma interface central para outros componentes, como modelos de solicitação, outros LLMs, dados extern'"
      ]
     },
     "execution_count": 15,
     "metadata": {},
     "output_type": "execute_result"
    }
   ],
   "source": [
    "agent_chain.run(input=\"O que é Langchain?\")"
   ]
  }
 ],
 "metadata": {
  "kernelspec": {
   "display_name": "Python 3 (ipykernel)",
   "language": "python",
   "name": "python3"
  },
  "language_info": {
   "codemirror_mode": {
    "name": "ipython",
    "version": 3
   },
   "file_extension": ".py",
   "mimetype": "text/x-python",
   "name": "python",
   "nbconvert_exporter": "python",
   "pygments_lexer": "ipython3",
   "version": "3.10.8"
  }
 },
 "nbformat": 4,
 "nbformat_minor": 5
}
