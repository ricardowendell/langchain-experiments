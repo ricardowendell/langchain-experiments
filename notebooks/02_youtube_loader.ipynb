{
 "cells": [
  {
   "cell_type": "code",
   "execution_count": 1,
   "id": "7e1e282f-a4b9-4119-bbc6-29c5b6b0b97b",
   "metadata": {
    "tags": []
   },
   "outputs": [
    {
     "data": {
      "text/plain": [
       "True"
      ]
     },
     "execution_count": 1,
     "metadata": {},
     "output_type": "execute_result"
    }
   ],
   "source": [
    "# Load environment variables\n",
    "from dotenv import load_dotenv\n",
    "load_dotenv()"
   ]
  },
  {
   "cell_type": "code",
   "execution_count": 2,
   "id": "062c4a01-6f73-497d-93ff-426c46f03b44",
   "metadata": {
    "tags": []
   },
   "outputs": [],
   "source": [
    "from langchain.document_loaders import YoutubeLoader\n",
    "from langchain.llms import OpenAI\n",
    "from langchain.chains.summarize import load_summarize_chain\n",
    "from langchain.prompts import PromptTemplate"
   ]
  },
  {
   "cell_type": "code",
   "execution_count": 3,
   "id": "65a9c296-af89-480f-9cc3-7802f3f7dd54",
   "metadata": {
    "tags": []
   },
   "outputs": [],
   "source": [
    "loader = YoutubeLoader.from_youtube_url(\"https://www.youtube.com/watch?v=MYFOIFnoR_g\", add_video_info=True)"
   ]
  },
  {
   "cell_type": "code",
   "execution_count": 4,
   "id": "0d0d6cb6-e6d6-4e0b-834b-e925b98d7a53",
   "metadata": {
    "tags": []
   },
   "outputs": [],
   "source": [
    "result = loader.load()"
   ]
  },
  {
   "cell_type": "code",
   "execution_count": 5,
   "id": "d92b09ba-6691-47b3-b3e6-ff1da83b9007",
   "metadata": {
    "tags": []
   },
   "outputs": [
    {
     "name": "stdout",
     "output_type": "stream",
     "text": [
      "<class 'list'>\n",
      "Video from Thoughtworks: 765 seconds long\n"
     ]
    }
   ],
   "source": [
    "print (type(result))\n",
    "print (f\"Video from {result[0].metadata['author']}: {result[0].metadata['length']} seconds long\")"
   ]
  },
  {
   "cell_type": "code",
   "execution_count": 6,
   "id": "443d471a-a7a2-4f4a-aa2f-8718be614b1c",
   "metadata": {
    "tags": []
   },
   "outputs": [],
   "source": [
    "llm = OpenAI(temperature=0.2)"
   ]
  },
  {
   "cell_type": "code",
   "execution_count": 7,
   "id": "5af979c9-f653-40e5-a554-c337f66ed91c",
   "metadata": {
    "tags": []
   },
   "outputs": [],
   "source": [
    "prompt_template = \"\"\"Write a summary of the following transcript from a YouTube video:\n",
    "\n",
    "{text}\n",
    "\n",
    "CONCISE SUMMARY IN BRAZILIAN PORTUGUESE:\"\"\"\n",
    "PROMPT = PromptTemplate(template=prompt_template, input_variables=[\"text\"])"
   ]
  },
  {
   "cell_type": "code",
   "execution_count": 8,
   "id": "0930142b-c591-4093-baf9-972f3d57e7b2",
   "metadata": {
    "tags": []
   },
   "outputs": [
    {
     "data": {
      "text/plain": [
       "'\\nA tecnologia é moralmente neutra até que a apliquemos. Uma pesquisa mostrou que as empresas acreditam que há valor em se preocupar com a tecnologia responsável. Existem métodos para tornar a tecnologia mais responsável, como proteção de dados, transparência, eliminação de preconceitos algorítmicos, minimização do impacto ambiental, diversidade e design inclusivo. No entanto, existem muitos fatores que impedem que isso aconteça, como falta de conscientização, resistência à mudança e falta de alfabetização digital. No final, é responsabilidade de todos nós garantir que a tecnologia seja usada para o bem.'"
      ]
     },
     "execution_count": 8,
     "metadata": {},
     "output_type": "execute_result"
    }
   ],
   "source": [
    "chain = load_summarize_chain(llm, prompt=PROMPT, chain_type=\"stuff\", verbose=False)\n",
    "chain.run(result)"
   ]
  },
  {
   "cell_type": "code",
   "execution_count": null,
   "id": "ad71987a-538e-4b22-b3dd-621b5fa56915",
   "metadata": {},
   "outputs": [],
   "source": []
  }
 ],
 "metadata": {
  "kernelspec": {
   "display_name": "Python 3 (ipykernel)",
   "language": "python",
   "name": "python3"
  },
  "language_info": {
   "codemirror_mode": {
    "name": "ipython",
    "version": 3
   },
   "file_extension": ".py",
   "mimetype": "text/x-python",
   "name": "python",
   "nbconvert_exporter": "python",
   "pygments_lexer": "ipython3",
   "version": "3.10.8"
  }
 },
 "nbformat": 4,
 "nbformat_minor": 5
}
