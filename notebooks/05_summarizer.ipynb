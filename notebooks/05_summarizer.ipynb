{
 "cells": [
  {
   "cell_type": "code",
   "execution_count": 5,
   "id": "f747e34a-fe52-4d9c-9aaf-e802d081ebae",
   "metadata": {
    "tags": []
   },
   "outputs": [
    {
     "data": {
      "text/plain": [
       "True"
      ]
     },
     "execution_count": 5,
     "metadata": {},
     "output_type": "execute_result"
    }
   ],
   "source": [
    "from dotenv import load_dotenv\n",
    "load_dotenv()"
   ]
  },
  {
   "cell_type": "code",
   "execution_count": 6,
   "id": "540febd2-6dd1-4c7a-9ea0-9c71034d4741",
   "metadata": {
    "tags": []
   },
   "outputs": [],
   "source": [
    "from langchain.chains.summarize import load_summarize_chain\n",
    "from langchain.llms import OpenAI\n",
    "from langchain.prompts import PromptTemplate\n",
    "from langchain.docstore.document import Document\n",
    "from langchain.document_loaders import DirectoryLoader"
   ]
  },
  {
   "cell_type": "code",
   "execution_count": 8,
   "id": "7d3e7a81-c1c9-4a06-b7b9-a9cd6f393014",
   "metadata": {
    "tags": []
   },
   "outputs": [],
   "source": [
    "def summarize(documents):\n",
    "    prompt_template = \"\"\"Write a list in bullet points that summarize the following transcript.\n",
    "    Extract the main talking points of the discussion on TOMs.\n",
    "\n",
    "    TRANSCRIPT:\n",
    "    {text}\n",
    "    \"\"\"\n",
    "    PROMPT = PromptTemplate(template=prompt_template, input_variables=[\"text\"])    \n",
    "    \n",
    "    llm = OpenAI(temperature=0, max_tokens=1024)\n",
    "    chain = load_summarize_chain(llm, chain_type=\"stuff\", prompt=PROMPT)\n",
    "    return chain.run({\"input_documents\": documents})"
   ]
  },
  {
   "cell_type": "code",
   "execution_count": 9,
   "id": "4c5a3c86-9d6b-43d8-88c3-9d67a2edcbba",
   "metadata": {
    "tags": []
   },
   "outputs": [],
   "source": [
    "def load_texts():\n",
    "    print(f\"loading documents...\")\n",
    "    loader = DirectoryLoader('texts')\n",
    "    documents = loader.load()\n",
    "    return documents"
   ]
  },
  {
   "cell_type": "code",
   "execution_count": 10,
   "id": "d7b40156-4b9d-49c3-a184-a7a38cf25f84",
   "metadata": {
    "tags": []
   },
   "outputs": [],
   "source": [
    "def split_docs(documents, chunk_size=300, chunk_overlap=20):\n",
    "    print(\"Splitting documents into chunks...\")\n",
    "    text_splitter = RecursiveCharacterTextSplitter(\n",
    "        chunk_size=chunk_size, chunk_overlap=chunk_overlap\n",
    "    )\n",
    "    docs = text_splitter.split_documents(documents)\n",
    "    return docs"
   ]
  },
  {
   "cell_type": "code",
   "execution_count": 11,
   "id": "50d94a61-1af7-4426-afe5-8ab625afa376",
   "metadata": {
    "tags": []
   },
   "outputs": [
    {
     "name": "stdout",
     "output_type": "stream",
     "text": [
      "loading documents...\n"
     ]
    }
   ],
   "source": [
    "docs = load_texts()"
   ]
  },
  {
   "cell_type": "code",
   "execution_count": null,
   "id": "a06c3a41-d868-42cd-9a49-b99d81512e46",
   "metadata": {
    "tags": []
   },
   "outputs": [],
   "source": [
    "print(docs[0])"
   ]
  },
  {
   "cell_type": "code",
   "execution_count": 13,
   "id": "d44d79a8-daf9-4583-9b2a-da43ef572a74",
   "metadata": {
    "tags": []
   },
   "outputs": [],
   "source": [
    "from langchain.text_splitter import RecursiveCharacterTextSplitter\n",
    "\n",
    "def split_docs(documents, chunk_size=2000, chunk_overlap=100):\n",
    "    print(\"Splitting documents into chunks...\")\n",
    "    text_splitter = RecursiveCharacterTextSplitter(\n",
    "        chunk_size=chunk_size, chunk_overlap=chunk_overlap\n",
    "    )\n",
    "    docs = text_splitter.split_documents(documents)\n",
    "    return docs"
   ]
  },
  {
   "cell_type": "code",
   "execution_count": 14,
   "id": "15b334e9-e80c-408b-a8af-ff705adb0060",
   "metadata": {
    "tags": []
   },
   "outputs": [
    {
     "name": "stdout",
     "output_type": "stream",
     "text": [
      "Splitting documents into chunks...\n"
     ]
    }
   ],
   "source": [
    "splitted_docs = split_docs(docs)"
   ]
  },
  {
   "cell_type": "code",
   "execution_count": null,
   "id": "15bc3092-4a2a-4ce5-bd4f-4e3c360d3d82",
   "metadata": {
    "tags": []
   },
   "outputs": [],
   "source": [
    "## summary = summarize(docs)"
   ]
  },
  {
   "cell_type": "code",
   "execution_count": 15,
   "id": "ec22739f-0cc6-47b6-a33f-235f8082580f",
   "metadata": {
    "tags": []
   },
   "outputs": [],
   "source": [
    "llm = OpenAI(temperature=0, max_tokens=1024)"
   ]
  },
  {
   "cell_type": "code",
   "execution_count": 16,
   "id": "cb4fa66a-959d-4b88-aa47-cb0a17f40a6c",
   "metadata": {
    "tags": []
   },
   "outputs": [],
   "source": [
    "from langchain.llms import VertexAI\n",
    "llm = VertexAI(temperature=0)"
   ]
  },
  {
   "cell_type": "code",
   "execution_count": 22,
   "id": "da70e7d0-8930-49b6-ade3-70e1a9238b2d",
   "metadata": {
    "tags": []
   },
   "outputs": [],
   "source": [
    "prompt_template = \"\"\"\n",
    "Write a summary in following transcript, in three sections:\n",
    "1. Highlight the participants and their roles (if present).\n",
    "2. Extract the talking points from the transcript.\n",
    "3. List the action items, if any.\n",
    "\n",
    "    TRANSCRIPT:\n",
    "    {text}\n",
    "    \n",
    "    Participants:\n",
    "    Talking points:\n",
    "    Action items:\n",
    "\"\"\"\n",
    "PROMPT = PromptTemplate(template=prompt_template, input_variables=[\"text\"])"
   ]
  },
  {
   "cell_type": "code",
   "execution_count": 23,
   "id": "1855552e-fe5a-46ac-9629-cdd1cf265014",
   "metadata": {
    "tags": []
   },
   "outputs": [],
   "source": [
    "from langchain.chains.summarize import load_summarize_chain\n",
    "chain = load_summarize_chain(llm, chain_type=\"map_reduce\", \n",
    "                             map_prompt=PROMPT, combine_prompt=PROMPT)\n",
    "summary = chain.run(splitted_docs)"
   ]
  },
  {
   "cell_type": "code",
   "execution_count": null,
   "id": "a950c967-8c38-4f9c-961a-7e6e449ebdcf",
   "metadata": {
    "tags": []
   },
   "outputs": [],
   "source": [
    "from langchain.chains.summarize import load_summarize_chain\n",
    "chain = load_summarize_chain(llm, chain_type=\"map_reduce\")\n",
    "summary = chain.run(splitted_docs)"
   ]
  },
  {
   "cell_type": "code",
   "execution_count": 24,
   "id": "37c3a807-8516-47a8-a7a5-f7d1fbd75492",
   "metadata": {
    "tags": []
   },
   "outputs": [
    {
     "name": "stdout",
     "output_type": "stream",
     "text": [
      "Participants:\n",
      "- Steve: interviewer\n",
      "- Brad: interviewee\n",
      "\n",
      "Talking points:\n",
      "- Brad started his transcription business with $500 from his parents.\n",
      "- He got his first few clients through referrals and a post on Facebook.\n",
      "- He also did local outreach with magazines and newspapers.\n",
      "- He had some luck with networking and meetup groups.\n",
      "- He doesn't use Twitter.\n",
      "\n",
      "Action items:\n",
      "- Start a transcription business.\n",
      "- Get your first few clients through referrals and social media.\n",
      "- Do local outreach with magazines and newspapers.\n",
      "- Attend networking and meetup groups.\n"
     ]
    }
   ],
   "source": [
    "print(summary)"
   ]
  }
 ],
 "metadata": {
  "kernelspec": {
   "display_name": "Python 3 (ipykernel)",
   "language": "python",
   "name": "python3"
  },
  "language_info": {
   "codemirror_mode": {
    "name": "ipython",
    "version": 3
   },
   "file_extension": ".py",
   "mimetype": "text/x-python",
   "name": "python",
   "nbconvert_exporter": "python",
   "pygments_lexer": "ipython3",
   "version": "3.10.8"
  }
 },
 "nbformat": 4,
 "nbformat_minor": 5
}
