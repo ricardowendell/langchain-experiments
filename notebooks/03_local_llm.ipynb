{
 "cells": [
  {
   "cell_type": "code",
   "execution_count": 1,
   "id": "cc76f119-394b-4127-8cc2-02c0902bb363",
   "metadata": {
    "tags": []
   },
   "outputs": [],
   "source": [
    "from langchain.llms import LlamaCpp\n",
    "from langchain import PromptTemplate, LLMChain\n",
    "from langchain.callbacks.manager import CallbackManager\n",
    "from langchain.callbacks.streaming_stdout import StreamingStdOutCallbackHandler"
   ]
  },
  {
   "cell_type": "code",
   "execution_count": 2,
   "id": "9f2df17c-58a5-49ac-8434-f05b134321dc",
   "metadata": {
    "tags": []
   },
   "outputs": [
    {
     "name": "stderr",
     "output_type": "stream",
     "text": [
      "llama.cpp: loading model from ../../models/wizardLM-7B.ggml.q5_1.bin\n",
      "llama_model_load_internal: format     = ggjt v2 (latest)\n",
      "llama_model_load_internal: n_vocab    = 32001\n",
      "llama_model_load_internal: n_ctx      = 512\n",
      "llama_model_load_internal: n_embd     = 4096\n",
      "llama_model_load_internal: n_mult     = 256\n",
      "llama_model_load_internal: n_head     = 32\n",
      "llama_model_load_internal: n_layer    = 32\n",
      "llama_model_load_internal: n_rot      = 128\n",
      "llama_model_load_internal: ftype      = 9 (mostly Q5_1)\n",
      "llama_model_load_internal: n_ff       = 11008\n",
      "llama_model_load_internal: n_parts    = 1\n",
      "llama_model_load_internal: model size = 7B\n",
      "llama_model_load_internal: ggml ctx size =  72.75 KB\n",
      "llama_model_load_internal: mem required  = 6612.59 MB (+ 1026.00 MB per state)\n",
      "llama_init_from_file: kv self size  =  256.00 MB\n",
      "AVX = 1 | AVX2 = 1 | AVX512 = 0 | AVX512_VBMI = 0 | AVX512_VNNI = 0 | FMA = 1 | NEON = 0 | ARM_FMA = 0 | F16C = 1 | FP16_VA = 0 | WASM_SIMD = 0 | BLAS = 1 | SSE3 = 1 | VSX = 0 | \n"
     ]
    }
   ],
   "source": [
    "# Callbacks support token-wise streaming.V erbose is required to pass to the callback manager\n",
    "callback_manager = CallbackManager([StreamingStdOutCallbackHandler()])\n",
    "\n",
    "llm = LlamaCpp(\n",
    "    model_path=\"../../models/wizardLM-7B.ggml.q5_1.bin\", \n",
    "    callback_manager=callback_manager, \n",
    "    verbose=True\n",
    ")\n"
   ]
  },
  {
   "cell_type": "code",
   "execution_count": 6,
   "id": "03187d97-4e8e-4d2b-8243-6acb4beafc7c",
   "metadata": {
    "tags": []
   },
   "outputs": [],
   "source": [
    "template = \"\"\"\n",
    "{question}\n",
    "\"\"\"\n",
    "\n",
    "prompt = PromptTemplate(template=template, input_variables=[\"question\"])"
   ]
  },
  {
   "cell_type": "code",
   "execution_count": 4,
   "id": "f48df70c-d78b-443c-b5eb-fd4f1665252b",
   "metadata": {
    "tags": []
   },
   "outputs": [],
   "source": [
    "llm_chain = LLMChain(prompt=prompt, llm=llm)"
   ]
  },
  {
   "cell_type": "code",
   "execution_count": 5,
   "id": "0127df33-1269-418c-b9e6-bc88be1355c9",
   "metadata": {
    "tags": []
   },
   "outputs": [
    {
     "name": "stdout",
     "output_type": "stream",
     "text": [
      "As an AI language model, I do not have personal opinions or beliefs, but here are some potential applications of generative AI in the retail industry:\n",
      "1. Personalized recommendations: Generative AI can analyze customer data and provide personalized product recommendations to improve their shopping experience.\n",
      "2. Inventory management: By using predictive analytics and machine learning algorithms, generative AI can help retailers optimize inventory levels, reduce stockouts, and minimize overstocking.\n",
      "3. Fraud detection: Generative AI can be used to detect fraudulent transactions by analyzing patterns of behavior and identifying anomalies.\n",
      "4. Chatbots: Generative AI-powered chatbots can help retailers provide better customer service by answering questions, resolving issues, and providing product information in real-time.\n",
      "5. Price optimization: By using generative AI to analyze market trends and consumer behavior, retailers can optimize prices and increase revenue.\n",
      "6. Supply chain management: Generative AI can help retailers optimize their supply chain by predicting demand, identifying bottlenecks, and improving logistics."
     ]
    },
    {
     "name": "stderr",
     "output_type": "stream",
     "text": [
      "\n",
      "llama_print_timings:        load time =  6717.72 ms\n",
      "llama_print_timings:      sample time =   202.93 ms /   256 runs   (    0.79 ms per token)\n",
      "llama_print_timings: prompt eval time =  9078.68 ms /    32 tokens (  283.71 ms per token)\n",
      "llama_print_timings:        eval time = 51856.57 ms /   255 runs   (  203.36 ms per token)\n",
      "llama_print_timings:       total time = 82240.19 ms\n"
     ]
    },
    {
     "data": {
      "text/plain": [
       "'As an AI language model, I do not have personal opinions or beliefs, but here are some potential applications of generative AI in the retail industry:\\n1. Personalized recommendations: Generative AI can analyze customer data and provide personalized product recommendations to improve their shopping experience.\\n2. Inventory management: By using predictive analytics and machine learning algorithms, generative AI can help retailers optimize inventory levels, reduce stockouts, and minimize overstocking.\\n3. Fraud detection: Generative AI can be used to detect fraudulent transactions by analyzing patterns of behavior and identifying anomalies.\\n4. Chatbots: Generative AI-powered chatbots can help retailers provide better customer service by answering questions, resolving issues, and providing product information in real-time.\\n5. Price optimization: By using generative AI to analyze market trends and consumer behavior, retailers can optimize prices and increase revenue.\\n6. Supply chain management: Generative AI can help retailers optimize their supply chain by predicting demand, identifying bottlenecks, and improving logistics.'"
      ]
     },
     "execution_count": 5,
     "metadata": {},
     "output_type": "execute_result"
    }
   ],
   "source": [
    "question = \"What are some opportunities we could apply it to retail companies common problems?\"\n",
    "\n",
    "llm_chain.run(question)"
   ]
  },
  {
   "cell_type": "code",
   "execution_count": 7,
   "id": "df61a31e-28f0-4a2e-b0c3-d26c3c0091c3",
   "metadata": {
    "tags": []
   },
   "outputs": [
    {
     "name": "stderr",
     "output_type": "stream",
     "text": [
      "Llama.generate: prefix-match hit\n"
     ]
    },
    {
     "name": "stdout",
     "output_type": "stream",
     "text": [
      "Summary:\n",
      "Offering a strong customer experience is essential for improving sales. 94% of consumers report that they are likely to purchase more from a company with positive feedback. However, without capturing VoC, it can be challenging to understand how customers feel and improve their experience. By using generative AI techniques, companies can capture VoC, evaluate new concepts, customize products and services, increase customer retention, and serve customers the solutions they need."
     ]
    },
    {
     "name": "stderr",
     "output_type": "stream",
     "text": [
      "\n",
      "llama_print_timings:        load time =  6717.72 ms\n",
      "llama_print_timings:      sample time =    79.99 ms /   100 runs   (    0.80 ms per token)\n",
      "llama_print_timings: prompt eval time = 19088.73 ms /   198 tokens (   96.41 ms per token)\n",
      "llama_print_timings:        eval time = 21322.19 ms /    99 runs   (  215.38 ms per token)\n",
      "llama_print_timings:       total time = 48814.35 ms\n"
     ]
    },
    {
     "data": {
      "text/plain": [
       "'Summary:\\nOffering a strong customer experience is essential for improving sales. 94% of consumers report that they are likely to purchase more from a company with positive feedback. However, without capturing VoC, it can be challenging to understand how customers feel and improve their experience. By using generative AI techniques, companies can capture VoC, evaluate new concepts, customize products and services, increase customer retention, and serve customers the solutions they need.'"
      ]
     },
     "execution_count": 7,
     "metadata": {},
     "output_type": "execute_result"
    }
   ],
   "source": [
    "question = \"\"\"\n",
    "Summarize the text below:\n",
    "\n",
    "TEXT:\n",
    "According to research by Qualtrics, offering a strong customer experience is all but guaranteed to improve your sales. 94% of consumers\n",
    "\n",
    "report that they are likely to purchase more from a company with “very good” remarks or feedback from the customers.\n",
    "\n",
    "However, without knowing how your customers actually feel, you can’t offer a strong customer service experience.\n",
    "\n",
    "By capturing VoC, you can connect and engage with customers at every touchpoint in the customer journey and programmatically improve their experience with your company. This technique helps you:\n",
    "\n",
    "    Spot early warning and potential brand crisis\n",
    "    Evaluate new concepts, ideas, and solutions\n",
    "    Customize your products, services, add-ons, and features to meet the needs and wants of your customers\n",
    "    Increase customer retention\n",
    "    Serve your customers the solutions they need\n",
    "\n",
    "\"\"\"\n",
    "llm_chain.run(question)"
   ]
  }
 ],
 "metadata": {
  "kernelspec": {
   "display_name": "Python 3 (ipykernel)",
   "language": "python",
   "name": "python3"
  },
  "language_info": {
   "codemirror_mode": {
    "name": "ipython",
    "version": 3
   },
   "file_extension": ".py",
   "mimetype": "text/x-python",
   "name": "python",
   "nbconvert_exporter": "python",
   "pygments_lexer": "ipython3",
   "version": "3.10.8"
  }
 },
 "nbformat": 4,
 "nbformat_minor": 5
}
