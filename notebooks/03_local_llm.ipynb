{
 "cells": [
  {
   "cell_type": "code",
   "execution_count": 2,
   "id": "cc76f119-394b-4127-8cc2-02c0902bb363",
   "metadata": {
    "tags": []
   },
   "outputs": [],
   "source": [
    "from langchain.llms import LlamaCpp\n",
    "from langchain import PromptTemplate, LLMChain\n",
    "from langchain.callbacks.manager import CallbackManager\n",
    "from langchain.callbacks.streaming_stdout import StreamingStdOutCallbackHandler"
   ]
  },
  {
   "cell_type": "code",
   "execution_count": 3,
   "id": "9f2df17c-58a5-49ac-8434-f05b134321dc",
   "metadata": {
    "tags": []
   },
   "outputs": [
    {
     "name": "stderr",
     "output_type": "stream",
     "text": [
      "llama.cpp: loading model from ../../models/wizard-vicuna-13B.ggml.q5_0.bin\n",
      "llama_model_load_internal: format     = ggjt v2 (latest)\n",
      "llama_model_load_internal: n_vocab    = 32000\n",
      "llama_model_load_internal: n_ctx      = 512\n",
      "llama_model_load_internal: n_embd     = 5120\n",
      "llama_model_load_internal: n_mult     = 256\n",
      "llama_model_load_internal: n_head     = 40\n",
      "llama_model_load_internal: n_layer    = 40\n",
      "llama_model_load_internal: n_rot      = 128\n",
      "llama_model_load_internal: ftype      = 8 (mostly Q5_0)\n",
      "llama_model_load_internal: n_ff       = 13824\n",
      "llama_model_load_internal: n_parts    = 1\n",
      "llama_model_load_internal: model size = 13B\n",
      "llama_model_load_internal: ggml ctx size =  90.75 KB\n",
      "llama_model_load_internal: mem required  = 10583.26 MB (+ 1608.00 MB per state)\n",
      "llama_init_from_file: kv self size  =  400.00 MB\n",
      "AVX = 1 | AVX2 = 1 | AVX512 = 0 | AVX512_VBMI = 0 | AVX512_VNNI = 0 | FMA = 1 | NEON = 0 | ARM_FMA = 0 | F16C = 1 | FP16_VA = 0 | WASM_SIMD = 0 | BLAS = 1 | SSE3 = 1 | VSX = 0 | \n"
     ]
    }
   ],
   "source": [
    "# Callbacks support token-wise streaming.V erbose is required to pass to the callback manager\n",
    "callback_manager = CallbackManager([StreamingStdOutCallbackHandler()])\n",
    "\n",
    "llm = LlamaCpp(\n",
    "    model_path=\"../../models/wizard-vicuna-13B.ggml.q5_0.bin\", \n",
    "    callback_manager=callback_manager, \n",
    "    verbose=True\n",
    ")\n"
   ]
  },
  {
   "cell_type": "code",
   "execution_count": 6,
   "id": "03187d97-4e8e-4d2b-8243-6acb4beafc7c",
   "metadata": {
    "tags": []
   },
   "outputs": [],
   "source": [
    "template = \"\"\"\n",
    "Act as a specialist in Generative AI.\n",
    "{question}\n",
    "\"\"\"\n",
    "\n",
    "prompt = PromptTemplate(template=template, input_variables=[\"question\"])"
   ]
  },
  {
   "cell_type": "code",
   "execution_count": 7,
   "id": "f48df70c-d78b-443c-b5eb-fd4f1665252b",
   "metadata": {
    "tags": []
   },
   "outputs": [],
   "source": [
    "llm_chain = LLMChain(prompt=prompt, llm=llm)"
   ]
  },
  {
   "cell_type": "code",
   "execution_count": 8,
   "id": "0127df33-1269-418c-b9e6-bc88be1355c9",
   "metadata": {
    "tags": []
   },
   "outputs": [
    {
     "name": "stdout",
     "output_type": "stream",
     "text": [
      "\n",
      "1. Personalization: Generative AI can be used to create personalized product recommendations based on the customer's browsing and purchase history, demographics, and preferences. \n",
      "2. Inventory Management: Generative AI can optimize inventory management by predicting demand for products, identifying slow-moving items, and suggesting replenishment strategies. \n",
      "3. Customer Service: Generative AI chatbots can be used to improve customer service by answering frequently asked questions, resolving issues, and providing support in real-time. \n",
      "4. Supply Chain Optimization: Generative AI can optimize supply chain operations by predicting lead times, optimizing delivery routes, and reducing transportation costs. \n",
      "5. Fraud Detection: Generative AI can be used to detect fraudulent activities such as chargebacks, disputes, and refunds. It can also identify suspicious patterns in customer behavior and flag them for further investigation."
     ]
    },
    {
     "name": "stderr",
     "output_type": "stream",
     "text": [
      "\n",
      "llama_print_timings:        load time = 13401.95 ms\n",
      "llama_print_timings:      sample time =   167.98 ms /   214 runs   (    0.78 ms per token)\n",
      "llama_print_timings: prompt eval time = 18290.92 ms /    32 tokens (  571.59 ms per token)\n",
      "llama_print_timings:        eval time = 75589.74 ms /   214 runs   (  353.22 ms per token)\n",
      "llama_print_timings:       total time = 111863.33 ms\n"
     ]
    },
    {
     "data": {
      "text/plain": [
       "\"\\n1. Personalization: Generative AI can be used to create personalized product recommendations based on the customer's browsing and purchase history, demographics, and preferences. \\n2. Inventory Management: Generative AI can optimize inventory management by predicting demand for products, identifying slow-moving items, and suggesting replenishment strategies. \\n3. Customer Service: Generative AI chatbots can be used to improve customer service by answering frequently asked questions, resolving issues, and providing support in real-time. \\n4. Supply Chain Optimization: Generative AI can optimize supply chain operations by predicting lead times, optimizing delivery routes, and reducing transportation costs. \\n5. Fraud Detection: Generative AI can be used to detect fraudulent activities such as chargebacks, disputes, and refunds. It can also identify suspicious patterns in customer behavior and flag them for further investigation.\""
      ]
     },
     "execution_count": 8,
     "metadata": {},
     "output_type": "execute_result"
    }
   ],
   "source": [
    "question = \"What are some opportunities we could apply it to retail companies common problems?\"\n",
    "\n",
    "llm_chain.run(question)"
   ]
  },
  {
   "cell_type": "code",
   "execution_count": null,
   "id": "df61a31e-28f0-4a2e-b0c3-d26c3c0091c3",
   "metadata": {
    "tags": []
   },
   "outputs": [],
   "source": [
    "question = \"\"\n",
    "\n",
    "llm_chain.run(question)"
   ]
  }
 ],
 "metadata": {
  "kernelspec": {
   "display_name": "Python 3 (ipykernel)",
   "language": "python",
   "name": "python3"
  },
  "language_info": {
   "codemirror_mode": {
    "name": "ipython",
    "version": 3
   },
   "file_extension": ".py",
   "mimetype": "text/x-python",
   "name": "python",
   "nbconvert_exporter": "python",
   "pygments_lexer": "ipython3",
   "version": "3.10.8"
  }
 },
 "nbformat": 4,
 "nbformat_minor": 5
}
