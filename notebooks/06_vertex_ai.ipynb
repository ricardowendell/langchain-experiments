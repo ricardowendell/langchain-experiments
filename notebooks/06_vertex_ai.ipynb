{
 "cells": [
  {
   "cell_type": "code",
   "execution_count": 1,
   "id": "cf2211d5-864f-455e-87b3-6db8afd2938d",
   "metadata": {
    "tags": []
   },
   "outputs": [],
   "source": [
    "from langchain.llms import VertexAI\n",
    "from langchain import PromptTemplate, LLMChain"
   ]
  },
  {
   "cell_type": "code",
   "execution_count": 2,
   "id": "f9373bd0-8b74-4e71-9386-5a24a3315f6d",
   "metadata": {
    "tags": []
   },
   "outputs": [],
   "source": [
    "template = \"\"\"Question: {question}\n",
    "\n",
    "Answer: Let's think step by step.\"\"\"\n",
    "\n",
    "prompt = PromptTemplate(template=template, input_variables=[\"question\"])"
   ]
  },
  {
   "cell_type": "code",
   "execution_count": 3,
   "id": "95ea2b6b-c160-446e-b5a2-32e2911b187e",
   "metadata": {
    "tags": []
   },
   "outputs": [],
   "source": [
    "llm = VertexAI()"
   ]
  },
  {
   "cell_type": "code",
   "execution_count": 4,
   "id": "66031e52-2ffd-463c-9ace-9f318aac55c9",
   "metadata": {
    "tags": []
   },
   "outputs": [],
   "source": [
    "llm_chain = LLMChain(prompt=prompt, llm=llm)"
   ]
  },
  {
   "cell_type": "code",
   "execution_count": 15,
   "id": "83932466-85da-41fd-a96c-94128226a751",
   "metadata": {
    "tags": []
   },
   "outputs": [],
   "source": [
    "question = \"\"\"\n",
    "Write a sentence with conditions: \n",
    "1) grammatically correct\n",
    "2) at least three English words\n",
    "3) it should end in the word \"awful\"\n",
    "4) each word is strictly shorter than the word before, including 'awful'\n",
    "\n",
    "Write out the answer with letter counts after words like this: Word (4)\n",
    "That should help you enforce the rules about decreasing length of words. \n",
    "Here is an example that works: Chestnuts(9) tasted(6) awful(5).\n",
    "Don’t reuse this example. \n",
    "After writing the sentence, explain why the sentence satisfied all the rules.\n",
    "\"\"\"\n",
    "\n",
    "answer = llm_chain.run(question)"
   ]
  },
  {
   "cell_type": "code",
   "execution_count": 16,
   "id": "6a9ac47c-0208-4ca5-b7f4-e8950593568c",
   "metadata": {
    "tags": []
   },
   "outputs": [
    {
     "name": "stdout",
     "output_type": "stream",
     "text": [
      "The sentence \"The man was awful\" satisfies all the rules. It has three words, and each word is shorter than the word before. The word \"awful\" is the last word in the sentence.\n"
     ]
    }
   ],
   "source": [
    "print(answer)"
   ]
  }
 ],
 "metadata": {
  "kernelspec": {
   "display_name": "Python 3 (ipykernel)",
   "language": "python",
   "name": "python3"
  },
  "language_info": {
   "codemirror_mode": {
    "name": "ipython",
    "version": 3
   },
   "file_extension": ".py",
   "mimetype": "text/x-python",
   "name": "python",
   "nbconvert_exporter": "python",
   "pygments_lexer": "ipython3",
   "version": "3.10.8"
  }
 },
 "nbformat": 4,
 "nbformat_minor": 5
}
